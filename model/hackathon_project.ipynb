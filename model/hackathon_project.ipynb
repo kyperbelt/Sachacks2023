{
 "cells": [
  {
   "cell_type": "code",
   "execution_count": null,
   "metadata": {},
   "outputs": [],
   "source": [
    "import tensorflow as tf\n",
    "import pandas as pd\n",
    "import numpy as np\n",
    "from sklearn.model_selection import train_test_split\n",
    "import json\n"
   ]
  },
  {
   "cell_type": "markdown",
   "metadata": {},
   "source": [
    "Training"
   ]
  },
  {
   "cell_type": "code",
   "execution_count": null,
   "metadata": {},
   "outputs": [],
   "source": [
    "with open('new_data_set.json') as f:\n",
    "    d = json.loads(f.read())"
   ]
  },
  {
   "cell_type": "code",
   "execution_count": null,
   "metadata": {},
   "outputs": [],
   "source": [
    "d2 = {}\n",
    "for key in d:\n",
    "    d2 |= d[key]"
   ]
  },
  {
   "cell_type": "code",
   "execution_count": null,
   "metadata": {},
   "outputs": [],
   "source": [
    "set_of_all_skills = set()\n",
    "for value in d2.values():\n",
    "    set_of_all_skills.update(value)\n"
   ]
  },
  {
   "cell_type": "code",
   "execution_count": null,
   "metadata": {},
   "outputs": [],
   "source": [
    "d3 = {}\n",
    "for key, value in d2.items():\n",
    "    d3[key] = [1 if skill in value else 0 for skill in set_of_all_skills]\n"
   ]
  },
  {
   "cell_type": "code",
   "execution_count": null,
   "metadata": {},
   "outputs": [],
   "source": [
    "df = pd.DataFrame.from_dict(d3, orient='index', columns=list(set_of_all_skills))"
   ]
  },
  {
   "cell_type": "code",
   "execution_count": null,
   "metadata": {},
   "outputs": [],
   "source": [
    "df['jobs'] = df.index"
   ]
  },
  {
   "cell_type": "code",
   "execution_count": null,
   "metadata": {},
   "outputs": [],
   "source": [
    "jobs_encoded = pd.get_dummies(df['jobs'])\n",
    "skills_encoded = df.drop('jobs', axis=1)"
   ]
  },
  {
   "cell_type": "code",
   "execution_count": null,
   "metadata": {},
   "outputs": [],
   "source": [
    "jobs_train, jobs_test = train_test_split(jobs_encoded, test_size=.2)"
   ]
  },
  {
   "cell_type": "code",
   "execution_count": null,
   "metadata": {},
   "outputs": [],
   "source": [
    "skills_train = skills_encoded.loc[jobs_train.index.to_list()]\n",
    "skills_test = skills_encoded.loc[jobs_test.index.to_list()]"
   ]
  },
  {
   "cell_type": "code",
   "execution_count": null,
   "metadata": {},
   "outputs": [],
   "source": [
    "assert(jobs_train.shape[1], jobs_test.shape[1])\n",
    "assert(skills_train.shape[1], skills_test.shape[1])\n",
    "job_count = jobs_train.shape[1]\n",
    "skill_count = skills_test.shape[1]"
   ]
  },
  {
   "cell_type": "code",
   "execution_count": null,
   "metadata": {},
   "outputs": [],
   "source": [
    "jobs_train_np = jobs_train.to_numpy()\n",
    "jobs_test_np = jobs_test.to_numpy()\n",
    "skills_train_np = skills_train.to_numpy()\n",
    "skills_test_np = skills_test.to_numpy()"
   ]
  },
  {
   "cell_type": "code",
   "execution_count": null,
   "metadata": {},
   "outputs": [],
   "source": [
    "moniters = [\n",
    "    tf.keras.callbacks.ModelCheckpoint('./best_weights', save_best_only=True),\n",
    "    tf.keras.callbacks.EarlyStopping(min_delta=1e-4, patience=5, restore_best_weights=True)\n",
    "]"
   ]
  },
  {
   "cell_type": "code",
   "execution_count": null,
   "metadata": {},
   "outputs": [],
   "source": [
    "NUM_OF_ITERATIONS = 10\n",
    "\n",
    "for i in range(NUM_OF_ITERATIONS):\n",
    "    model = tf.keras.models.Sequential()\n",
    "    model.add(tf.keras.layers.Dense(skill_count, input_dim=skill_count))\n",
    "    model.add(tf.keras.layers.Dense(int(skill_count/4), activation='relu') )\n",
    "    model.add(tf.keras.layers.Dense(int(skill_count/8), activation='relu') )\n",
    "\n",
    "    # Output\n",
    "    model.add(tf.keras.layers.Dense(job_count, activation='softmax'))\n",
    "    model.compile(loss='categorical_crossentropy', optimizer='adam')\n",
    "\n",
    "    model.fit(skills_train_np, jobs_train_np, validation_data=(skills_test_np, jobs_test_np), callbacks=moniters, verbose=2,epochs=100)"
   ]
  },
  {
   "cell_type": "markdown",
   "metadata": {},
   "source": [
    "Production Model"
   ]
  },
  {
   "cell_type": "code",
   "execution_count": null,
   "metadata": {},
   "outputs": [],
   "source": [
    "list_of_all_jobs = list(jobs_test.columns)\n",
    "list_of_all_skills = list(set_of_all_skills)"
   ]
  },
  {
   "cell_type": "code",
   "execution_count": null,
   "metadata": {},
   "outputs": [],
   "source": [
    "json.dumps({'list_of_all_jobs' : list_of_all_jobs, 'list_of_all_skills' : list_of_all_skills})"
   ]
  },
  {
   "cell_type": "code",
   "execution_count": 45,
   "metadata": {},
   "outputs": [],
   "source": [
    "class Prod:\n",
    "    \n",
    "    # load best model\n",
    "    def __init__(self, model_path : str = './best_weights'):\n",
    "        self.model = self.create_model()\n",
    "        self.model.load_weights(model_path)\n",
    "        \n",
    "    @staticmethod\n",
    "    def create_model() -> tf.keras.models.Sequential:\n",
    "        model = tf.keras.models.Sequential()\n",
    "        model.add(tf.keras.layers.Dense(skill_count, input_dim=skill_count))\n",
    "        model.add(tf.keras.layers.Dense(int(skill_count/4), activation='relu') )\n",
    "        model.add(tf.keras.layers.Dense(int(skill_count/8), activation='relu') )\n",
    "\n",
    "        # Output\n",
    "        model.add(tf.keras.layers.Dense(job_count, activation='softmax'))\n",
    "        model.compile(loss='categorical_crossentropy', optimizer='adam')\n",
    "        return model\n",
    "\n",
    "        \n",
    "    def get_job_list(self, skills: list[str], job_count: int = 10):\n",
    "        # One hot encode skills\n",
    "        arr = np.array([[1 if skill in skills else 0 for skill in list_of_all_skills]])\n",
    "        \n",
    "        # Send it to the model\n",
    "        pred = self.model.predict(arr)\n",
    "        \n",
    "        # Create a dataframe and series\n",
    "        df = pd.DataFrame(pred, columns=list_of_all_jobs)\n",
    "        series = pd.Series(df.loc[0])\n",
    "\n",
    "        # Take the largest job count\n",
    "        rv = pd.Series.nlargest(series, n = job_count).to_dict()\n",
    "        \n",
    "        # Return the list of carrers\n",
    "        return list(rv)\n",
    "\n",
    "    "
   ]
  },
  {
   "cell_type": "code",
   "execution_count": 46,
   "metadata": {},
   "outputs": [
    {
     "name": "stdout",
     "output_type": "stream",
     "text": [
      "1/1 [==============================] - 0s 139ms/step\n"
     ]
    },
    {
     "data": {
      "text/plain": [
       "['Network and Computer Systems Administrators',\n",
       " 'Insurance Sales Agents',\n",
       " 'Critical Care Nurses',\n",
       " 'Training and Development Specialists',\n",
       " 'Biofuels/Biodiesel Technology and Product Development Managers',\n",
       " 'Information Security Analysts',\n",
       " 'Court Reporters and Simultaneous Captioners',\n",
       " 'Actuaries',\n",
       " 'Communications Teachers, Postsecondary',\n",
       " 'Computer User Support Specialists']"
      ]
     },
     "execution_count": 46,
     "metadata": {},
     "output_type": "execute_result"
    }
   ],
   "source": [
    "prod = Prod()\n",
    "prod.get_job_list(['Depiction Software Deco-Con Estimator',\n",
    " 'Patient management software',\n",
    " 'Biometrics video game software',\n",
    " 'DuPont Spies Hecker Wizard'])"
   ]
  }
 ],
 "metadata": {
  "kernelspec": {
   "display_name": "Python 3 (ipykernel)",
   "language": "python",
   "name": "python3"
  },
  "language_info": {
   "codemirror_mode": {
    "name": "ipython",
    "version": 3
   },
   "file_extension": ".py",
   "mimetype": "text/x-python",
   "name": "python",
   "nbconvert_exporter": "python",
   "pygments_lexer": "ipython3",
   "version": "3.10.9"
  }
 },
 "nbformat": 4,
 "nbformat_minor": 2
}
